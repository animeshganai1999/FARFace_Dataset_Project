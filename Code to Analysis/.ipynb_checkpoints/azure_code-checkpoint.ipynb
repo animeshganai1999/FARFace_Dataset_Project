{
 "cells": [
  {
   "cell_type": "code",
   "execution_count": 2,
   "id": "8ff44c09",
   "metadata": {},
   "outputs": [],
   "source": [
    "import asyncio\n",
    "import io\n",
    "import os\n",
    "import sys\n",
    "import time\n",
    "import uuid\n",
    "import requests\n",
    "from urllib.parse import urlparse\n",
    "from io import BytesIO\n",
    "# To install this module, run:\n",
    "# python -m pip install Pillow\n",
    "from PIL import Image, ImageDraw\n",
    "from azure.cognitiveservices.vision.face import FaceClient\n",
    "from msrest.authentication import CognitiveServicesCredentials\n",
    "from azure.cognitiveservices.vision.face.models import TrainingStatusType, Person, QualityForRecognition\n",
    "\n"
   ]
  },
  {
   "cell_type": "code",
   "execution_count": null,
   "id": "bca92d4f",
   "metadata": {},
   "outputs": [
    {
     "name": "stdout",
     "output_type": "stream",
     "text": [
      "['Greyish', 'normal', 'Original', 'RGB0.3 Noise', 'RGB0.5 Noise', 'Spread Noise']\n",
      "Pakisthan Greyish\n",
      "Pakisthan normal\n",
      "Pakisthan Original\n"
     ]
    }
   ],
   "source": [
    "# This key will serve all examples in this document.\n",
    "KEY = \"dc8ab995e08a486f93392730155cb130\"\n",
    "\n",
    "# This endpoint will be used in all examples in this quickstart.\n",
    "ENDPOINT = \"https://aieinstance.cognitiveservices.azure.com/\"\n",
    "\n",
    "# Create an authenticated FaceClient.\n",
    "face_client = FaceClient(ENDPOINT, CognitiveServicesCredentials(KEY))\n",
    "\n",
    "input_path = \"./../Players Dataset\"\n",
    "# countries = os.listdir(input_path)\n",
    "countries = ['Pakisthan']\n",
    "def create_folder(path):\n",
    "    try:\n",
    "        os.mkdir(path)\n",
    "    except:\n",
    "        pass\n",
    "    \n",
    "def runAzure(input_image_filenames,out_path):\n",
    "    input_reader = os.listdir(input_image_filenames)\n",
    "    success_output_collector = open(out_path+'/success.csv', 'a') ## ADD A NEW FILENAME HERE FOR EVERY FOLDER\n",
    "    failure_output_collector = open(out_path+'/failure.csv', 'a') ## ADD A NEW FILENAME HERE FOR EVERY FOLDER\n",
    "    counter = 0\n",
    "    results_list = []\n",
    "\n",
    "    for line_input in input_reader:\n",
    "        input_image_name = input_image_filenames+\"/\"+line_input\n",
    "        input_image = open(input_image_name, 'r+b')\n",
    "        time.sleep(0.5)\n",
    "        try:\n",
    "            faces = face_client.face.detect_with_stream(input_image, return_face_attributes=['gender', 'age', 'smile'], return_face_landmarks=False, detection_model='detection_01')\n",
    "            myface = faces[0]\n",
    "            success_output_collector.write(line_input + \",\" + str(myface.face_attributes.gender) + \",\" + str(myface.face_attributes.age) + \",\" + str(myface.face_attributes.smile) + \"\\n\")\n",
    "        except:\n",
    "            failure_output_collector.write(\"%s,%s\\n\" % (line_input, sys.exc_info()[0]))\n",
    "        counter += 1\n",
    "        if counter % 10 == 0:\n",
    "            print(str(counter) + \" images processed\", flush=True)\n",
    "\n",
    "    success_output_collector.close()\n",
    "    failure_output_collector.close()\n",
    "\n",
    "for country in countries:\n",
    "    create_folder(country)\n",
    "    country_path = input_path+\"/\"+country\n",
    "    noise_types = os.listdir(country_path)\n",
    "    print(noise_types)\n",
    "    for noise_type in noise_types:\n",
    "        print(country,noise_type)\n",
    "        create_folder(country+\"/\"+noise_type)\n",
    "        if noise_type == \"Original\":\n",
    "            create_folder(country+\"/\"+noise_type+\"/normal\")\n",
    "            runAzure(country_path+\"/\"+noise_type+\"/normal\",country+\"/\"+noise_type+\"/normal\")\n",
    "            create_folder(country+\"/\"+noise_type+\"/masked\")\n",
    "            runAzure(country_path+\"/\"+noise_type+\"/masked\",country+\"/\"+noise_type+\"/masked\")\n",
    "#         else:\n",
    "#             create_folder(country+\"/\"+noise_type+\"/normal\")\n",
    "#             runAzure(country_path+\"/\"+noise_type+\"/normal\",country+\"/\"+noise_type+\"/normal\")"
   ]
  },
  {
   "cell_type": "code",
   "execution_count": null,
   "id": "c79eeb33",
   "metadata": {},
   "outputs": [],
   "source": []
  },
  {
   "cell_type": "code",
   "execution_count": null,
   "id": "5a943766",
   "metadata": {},
   "outputs": [],
   "source": []
  }
 ],
 "metadata": {
  "kernelspec": {
   "display_name": "Python 3",
   "language": "python",
   "name": "python3"
  },
  "language_info": {
   "codemirror_mode": {
    "name": "ipython",
    "version": 3
   },
   "file_extension": ".py",
   "mimetype": "text/x-python",
   "name": "python",
   "nbconvert_exporter": "python",
   "pygments_lexer": "ipython3",
   "version": "3.8.8"
  }
 },
 "nbformat": 4,
 "nbformat_minor": 5
}
