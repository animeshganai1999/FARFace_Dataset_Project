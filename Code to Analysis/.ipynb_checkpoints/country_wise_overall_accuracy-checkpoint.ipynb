{
 "cells": [
  {
   "cell_type": "code",
   "execution_count": 1,
   "id": "86cec4cb",
   "metadata": {},
   "outputs": [],
   "source": [
    "import os\n",
    "import pandas as pd"
   ]
  },
  {
   "cell_type": "code",
   "execution_count": 34,
   "id": "df60c56d",
   "metadata": {},
   "outputs": [],
   "source": [
    "API_NAME = \"aws\"\n",
    "\n",
    "path = \"./../plots/\"+API_NAME+'/'\n",
    "files = os.listdir(path)\n",
    "columns = ['country','ORIGINAL','GREYSCALE','RGB-0.3','RGB-0.5','SPREAD','MASKED']\n",
    "\n",
    "df_ov = pd.DataFrame(columns = columns)\n",
    "df_m = pd.DataFrame(columns = columns)\n",
    "df_f = pd.DataFrame(columns = columns)\n",
    "\n",
    "for file in files:\n",
    "    if file.split('_')[0] == \"accuracy\":\n",
    "        df_acc = pd.read_csv(path+file)\n",
    "        country = file.split('_')[-1].split('.')[0]\n",
    "        lis_ov = list(df_acc.iloc[0,:])[1:]\n",
    "        lis_m = list(df_acc.iloc[1,:])[1:]\n",
    "        lis_f = list(df_acc.iloc[2,:])[1:]\n",
    "        \n",
    "        df_ov.at[len(df_ov.index)] = [country]+lis_ov\n",
    "        df_m.at[len(df_m.index)] = [country]+lis_m\n",
    "        df_f.at[len(df_f.index)] = [country]+lis_f\n",
    "\n",
    "df_ov.to_csv(path+\"overall.csv\",index = False)\n",
    "df_m.to_csv(path+\"male.csv\",index = False)\n",
    "df_f.to_csv(path+\"female.csv\",index = False)"
   ]
  },
  {
   "cell_type": "code",
   "execution_count": null,
   "id": "b84204dd",
   "metadata": {},
   "outputs": [],
   "source": []
  }
 ],
 "metadata": {
  "kernelspec": {
   "display_name": "Python 3 (ipykernel)",
   "language": "python",
   "name": "python3"
  },
  "language_info": {
   "codemirror_mode": {
    "name": "ipython",
    "version": 3
   },
   "file_extension": ".py",
   "mimetype": "text/x-python",
   "name": "python",
   "nbconvert_exporter": "python",
   "pygments_lexer": "ipython3",
   "version": "3.8.16"
  }
 },
 "nbformat": 4,
 "nbformat_minor": 5
}
