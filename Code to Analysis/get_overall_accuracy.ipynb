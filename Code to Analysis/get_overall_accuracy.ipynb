{
 "cells": [
  {
   "cell_type": "code",
   "execution_count": 1,
   "id": "878f3109",
   "metadata": {},
   "outputs": [],
   "source": [
    "import os\n",
    "import pandas as pd"
   ]
  },
  {
   "cell_type": "code",
   "execution_count": 2,
   "id": "2e60f18e",
   "metadata": {},
   "outputs": [],
   "source": [
    "def overall_accuracy(df):\n",
    "    img_types = df.columns[2:-4]\n",
    "    for img_type in img_types:\n",
    "        print(\"Image Type : \"+img_type)\n",
    "        is_masked = img_type.split()[-1].lower() == 'masked'\n",
    "        df_total = df.copy()\n",
    "        if is_masked:\n",
    "            df_total = df[df['valid masked'] == 1]\n",
    "        df_copy = df_total[['name','gender',img_type,'status']]\n",
    "        if img_type.lower() != 'greyish':\n",
    "            df_copy = df_copy[df_copy['status'] == 'OK']\n",
    "            df_copy = df_copy.reset_index()\n",
    "            df_copy = df_copy.drop('index',axis = 1)\n",
    "\n",
    "        total = len(df_copy)\n",
    "        df_male = df_copy[df_copy['gender'] == 'M']\n",
    "        df_female = df_copy[df_copy['gender'] == 'F']\n",
    "\n",
    "        total_male = len(df_male)\n",
    "        total_female = len(df_female)\n",
    "\n",
    "        predicted_male = len(df_male[df_male[img_type] == 'M'])\n",
    "        predicted_female = len(df_female[df_female[img_type] == 'F'])\n",
    "\n",
    "        total_correct_prediction = len(df_copy[df_copy['gender'] == df_copy[img_type]])\n",
    "        print(\"Total : \",total)\n",
    "#         print(\"Total correct prediction : \",total_correct_prediction)\n",
    "        \n",
    "        \n",
    "        print(\"Overall Accuracy : %0.2f\"%((total_correct_prediction/total)*100))\n",
    "        print(\"Overall Male accuracy : %0.2f\"%((predicted_male/total_male)*100))\n",
    "        print(\"Overall Female accuracy : %0.2f\"%((predicted_female/total_female)*100))\n",
    "        print()"
   ]
  },
  {
   "cell_type": "code",
   "execution_count": 3,
   "id": "e127e786",
   "metadata": {},
   "outputs": [],
   "source": [
    "## remove cartoon images\n",
    "def process_result(df,status_csv_file,country):\n",
    "    df_status = pd.read_csv(status_csv_file+'/'+country)\n",
    "    df_status['fileName'] = df_status['fileName'].apply(lambda x: x.split(\".\")[0])\n",
    "    df_status = df_status[(df_status['status'] == 'OK') | (df_status['status'] == 'GREY')]\n",
    "    df_status = df_status.reset_index()\n",
    "    df_status = df_status.drop('index',axis = 1)\n",
    "    df = df.merge(df_status, left_on='name', right_on='fileName', how='inner')\n",
    "    df = df.drop('fileName',axis = 1)\n",
    "    \n",
    "#     print(len(df))\n",
    "    return df\n",
    "    "
   ]
  },
  {
   "cell_type": "code",
   "execution_count": 5,
   "id": "1f3b3ea3",
   "metadata": {
    "scrolled": false
   },
   "outputs": [
    {
     "name": "stdout",
     "output_type": "stream",
     "text": [
      "7314\n",
      "Image Type : Greyish\n",
      "Total :  7314\n",
      "Overall Accuracy : 94.44\n",
      "Overall Male accuracy : 99.94\n",
      "Overall Female accuracy : 58.71\n",
      "\n",
      "Image Type : masked\n",
      "Total :  6425\n",
      "Overall Accuracy : 90.80\n",
      "Overall Male accuracy : 99.91\n",
      "Overall Female accuracy : 35.96\n",
      "\n",
      "Image Type : normal\n",
      "Total :  6579\n",
      "Overall Accuracy : 93.74\n",
      "Overall Male accuracy : 99.91\n",
      "Overall Female accuracy : 56.28\n",
      "\n",
      "Image Type : RGB0.3 Noise\n",
      "Total :  6579\n",
      "Overall Accuracy : 90.59\n",
      "Overall Male accuracy : 99.96\n",
      "Overall Female accuracy : 33.73\n",
      "\n",
      "Image Type : RGB0.5 Noise\n",
      "Total :  6579\n",
      "Overall Accuracy : 87.31\n",
      "Overall Male accuracy : 99.96\n",
      "Overall Female accuracy : 10.53\n",
      "\n",
      "Image Type : Spread Noise\n",
      "Total :  6579\n",
      "Overall Accuracy : 91.40\n",
      "Overall Male accuracy : 99.88\n",
      "Overall Female accuracy : 39.96\n",
      "\n"
     ]
    }
   ],
   "source": [
    "API_NAME = \"deepface_without_face_detection\"\n",
    "\n",
    "res_csv_path = \"./../Results in csv files/\"+API_NAME\n",
    "status_csv_file = \"./../correction/status_csv_files/\"\n",
    "countries = os.listdir(res_csv_path)\n",
    "df_overall = pd.DataFrame()\n",
    "for country in countries:\n",
    "    df = pd.read_csv(res_csv_path+\"/\"+country)\n",
    "    df = process_result(df,status_csv_file,country) ## removed black&white images and cartoon images\n",
    "#     print(df)\n",
    "    df_overall = df_overall.append(df)\n",
    "#     break\n",
    "\n",
    "\n",
    "df_overall = df_overall.reset_index()\n",
    "df_overall = df_overall.drop('index',axis = 1)\n",
    "print(len(df_overall))\n",
    "overall_accuracy(df_overall)"
   ]
  },
  {
   "cell_type": "code",
   "execution_count": 91,
   "id": "4744e354",
   "metadata": {},
   "outputs": [
    {
     "data": {
      "text/plain": [
       "7314"
      ]
     },
     "execution_count": 91,
     "metadata": {},
     "output_type": "execute_result"
    }
   ],
   "source": [
    "940+367+1409+2254+597+557+541+649"
   ]
  },
  {
   "cell_type": "code",
   "execution_count": null,
   "id": "e1cda9e6",
   "metadata": {},
   "outputs": [],
   "source": []
  }
 ],
 "metadata": {
  "kernelspec": {
   "display_name": "Python 3 (ipykernel)",
   "language": "python",
   "name": "python3"
  },
  "language_info": {
   "codemirror_mode": {
    "name": "ipython",
    "version": 3
   },
   "file_extension": ".py",
   "mimetype": "text/x-python",
   "name": "python",
   "nbconvert_exporter": "python",
   "pygments_lexer": "ipython3",
   "version": "3.8.16"
  }
 },
 "nbformat": 4,
 "nbformat_minor": 5
}
