{
 "cells": [
  {
   "cell_type": "code",
   "execution_count": 1,
   "id": "55f14755",
   "metadata": {},
   "outputs": [],
   "source": [
    "from selenium.webdriver.chrome.service import Service\n",
    "from selenium.webdriver.common.by import By\n",
    "from selenium import webdriver\n",
    "import json\n",
    "import time\n",
    "import numpy as np\n",
    "import pandas as pd\n",
    "import matplotlib.pyplot as plt\n",
    "import time as tm\n",
    "from dateutil.relativedelta import relativedelta\n",
    "from datetime import date\n",
    "import os\n",
    "import shutil\n",
    "import re\n",
    "from selenium.webdriver.common.action_chains import ActionChains\n"
   ]
  },
  {
   "cell_type": "code",
   "execution_count": 130,
   "id": "3c62a08f",
   "metadata": {},
   "outputs": [],
   "source": [
    "serv_obj = Service(\"C:\\driver\\chromedriver_win32\\chromedriver.exe\")\n",
    "driver = webdriver.Chrome(service = serv_obj)"
   ]
  },
  {
   "cell_type": "markdown",
   "id": "0da56790",
   "metadata": {},
   "source": [
    "# 1. Find all the players name and their page link"
   ]
  },
  {
   "cell_type": "markdown",
   "id": "18790238",
   "metadata": {},
   "source": [
    "## Team page link"
   ]
  },
  {
   "cell_type": "code",
   "execution_count": 131,
   "id": "a25a8300",
   "metadata": {},
   "outputs": [],
   "source": [
    "pageLink = \"https://www.espncricinfo.com/cricketers/team/south-africa-3/alpha-\"\n",
    "lis = []"
   ]
  },
  {
   "cell_type": "code",
   "execution_count": 132,
   "id": "1f2b1fef",
   "metadata": {},
   "outputs": [],
   "source": [
    "def makeStandardName(name):\n",
    "    new_name = \" \".join((re.sub(\"([^a-zA-Z]+|json|png|nbsp|jpg)\",\" \",name).strip().split())).title()\n",
    "    return new_name"
   ]
  },
  {
   "cell_type": "code",
   "execution_count": 133,
   "id": "4ce3a8af",
   "metadata": {},
   "outputs": [],
   "source": [
    "SCROLL_PAUSE_TIME = 2\n",
    "ele = None\n",
    "name_lis = []\n",
    "page_link = []\n",
    "\n",
    "for i in range(97,123):\n",
    "    newPageLink = pageLink + chr(i)\n",
    "    driver.get(newPageLink)\n",
    "    driver.maximize_window()\n",
    "    time.sleep(5)\n",
    "    \n",
    "    ele = driver.find_elements(By.CSS_SELECTOR,'span.ds-text-tight-s.ds-font-regular')\n",
    "    for element in ele:\n",
    "        if element.get_attribute('innerHTML') == \"ALL\":\n",
    "            element.click()\n",
    "            break\n",
    "    \n",
    "    time.sleep(5)\n",
    "    \n",
    "    try:\n",
    "        element = driver.find_element(By.CLASS_NAME,\"icon-keyboard_arrow_up-filled\")\n",
    "\n",
    "        actions = ActionChains(driver)\n",
    "        \n",
    "        last_height = driver.execute_script(\"return document.body.scrollHeight\")\n",
    "        while True:\n",
    "            actions.move_to_element(element).perform()\n",
    "            time.sleep(SCROLL_PAUSE_TIME)\n",
    "            new_height = driver.execute_script(\"return document.body.scrollHeight\")\n",
    "            if new_height == last_height:\n",
    "                break\n",
    "            last_height = new_height\n",
    "\n",
    "        obj = driver.find_elements(By.CSS_SELECTOR,\".ds-flex.ds-p-4 \")\n",
    "        lis.append(list(obj))\n",
    "        \n",
    "        for ele in list(obj):\n",
    "            name_lis.append(ele.find_element(By.CLASS_NAME,\"ds-text-tight-l\").get_attribute('innerHTML'))\n",
    "            page_link.append(ele.find_element(By.CSS_SELECTOR,'a.ds-leading-none').get_attribute('href'))\n",
    "        \n",
    "    except:\n",
    "        pass"
   ]
  },
  {
   "cell_type": "code",
   "execution_count": 134,
   "id": "db9a29ae",
   "metadata": {},
   "outputs": [],
   "source": [
    "for i in range(len(name_lis)):\n",
    "    name_lis[i] = makeStandardName(name_lis[i])"
   ]
  },
  {
   "cell_type": "code",
   "execution_count": 135,
   "id": "2d86c413",
   "metadata": {},
   "outputs": [],
   "source": [
    "df = pd.DataFrame({'Player Name':name_lis,'Page Link':page_link})\n"
   ]
  },
  {
   "cell_type": "code",
   "execution_count": 136,
   "id": "0df8f4da",
   "metadata": {},
   "outputs": [],
   "source": [
    "dfPlayersName = df.drop_duplicates()"
   ]
  },
  {
   "cell_type": "code",
   "execution_count": 137,
   "id": "10e104a7",
   "metadata": {},
   "outputs": [],
   "source": [
    "outputFileName = \"player_name_page_link_south_africa.csv\"\n",
    "df.to_csv(outputFileName)"
   ]
  },
  {
   "cell_type": "markdown",
   "id": "e2257a7e",
   "metadata": {},
   "source": [
    "### Lots of repeated names are there"
   ]
  },
  {
   "cell_type": "code",
   "execution_count": 138,
   "id": "83975420",
   "metadata": {},
   "outputs": [
    {
     "data": {
      "text/plain": [
       "Player Name    10181\n",
       "Page Link      10382\n",
       "dtype: int64"
      ]
     },
     "execution_count": 138,
     "metadata": {},
     "output_type": "execute_result"
    }
   ],
   "source": [
    "df.nunique()"
   ]
  },
  {
   "cell_type": "markdown",
   "id": "373eae25",
   "metadata": {},
   "source": [
    "## Make all the players name unique"
   ]
  },
  {
   "cell_type": "code",
   "execution_count": 2,
   "id": "1bf8a6cf",
   "metadata": {},
   "outputs": [],
   "source": [
    "outputFileName = \"player_name_page_link_new_zealand.csv\""
   ]
  },
  {
   "cell_type": "code",
   "execution_count": 3,
   "id": "cb024cf0",
   "metadata": {},
   "outputs": [],
   "source": [
    "df = pd.read_csv(outputFileName)"
   ]
  },
  {
   "cell_type": "code",
   "execution_count": 4,
   "id": "e4936683",
   "metadata": {},
   "outputs": [],
   "source": [
    "uid = 0\n",
    "prevPlayer = None\n",
    "\n",
    "for i in range(len(df)):\n",
    "    if prevPlayer == df['Player Name'][i]:\n",
    "        uid += 1\n",
    "    else:\n",
    "        uid = 0\n",
    "        prevPlayer = df['Player Name'][i]\n",
    "        \n",
    "    df.at[i,'Player Name'] = df['Player Name'][i] + \"_\" + str(uid)"
   ]
  },
  {
   "cell_type": "code",
   "execution_count": 5,
   "id": "2eb16805",
   "metadata": {},
   "outputs": [],
   "source": [
    "outputFileNameNew = outputFileName.split('.')[0]+\"_uniqueu_name.csv\"\n",
    "try:\n",
    "    df = df.drop(['Unnamed: 0'], axis=1)\n",
    "except:\n",
    "    pass\n",
    "df.to_csv(outputFileNameNew)"
   ]
  },
  {
   "cell_type": "code",
   "execution_count": 6,
   "id": "63f54d6f",
   "metadata": {},
   "outputs": [
    {
     "data": {
      "text/plain": [
       "Index(['Player Name', 'Page Link'], dtype='object')"
      ]
     },
     "execution_count": 6,
     "metadata": {},
     "output_type": "execute_result"
    }
   ],
   "source": [
    "df.columns"
   ]
  },
  {
   "cell_type": "code",
   "execution_count": 7,
   "id": "27fd2775",
   "metadata": {},
   "outputs": [
    {
     "data": {
      "text/plain": [
       "Player Name    3861\n",
       "Page Link      3871\n",
       "dtype: int64"
      ]
     },
     "execution_count": 7,
     "metadata": {},
     "output_type": "execute_result"
    }
   ],
   "source": [
    "df.nunique()"
   ]
  },
  {
   "cell_type": "markdown",
   "id": "72e96e5c",
   "metadata": {},
   "source": [
    "# 2. Go to each of the pages and download data"
   ]
  },
  {
   "cell_type": "code",
   "execution_count": null,
   "id": "f912614b",
   "metadata": {},
   "outputs": [],
   "source": [
    "df = pd.read_csv('player_name_page_link.csv')"
   ]
  },
  {
   "cell_type": "code",
   "execution_count": null,
   "id": "d1e6f84a",
   "metadata": {},
   "outputs": [],
   "source": [
    "try:\n",
    "    os.mkdir(\"images\")\n",
    "except:\n",
    "    pass\n",
    "\n",
    "try:\n",
    "    os.mkdir(\"details\")\n",
    "except:\n",
    "    pass"
   ]
  },
  {
   "cell_type": "code",
   "execution_count": null,
   "id": "a4a3624f",
   "metadata": {},
   "outputs": [],
   "source": [
    "for i in range(len(df)):\n",
    "    try:\n",
    "        playerName = df.iloc[i]['Player Name']\n",
    "        pageLink = df.iloc[i]['Page Link']\n",
    "\n",
    "        # Go to the page\n",
    "        driver.get(pageLink)\n",
    "\n",
    "        # Sleep for 3 seconds\n",
    "        time.sleep(3)\n",
    "\n",
    "        try:\n",
    "            imageDiv = driver.find_element(By.CSS_SELECTOR,'div.ds-ml-auto.ds-w-48.ds-h-48')\n",
    "            imageLink = imageDiv.find_element(By.TAG_NAME,\"img\").get_attribute('src')\n",
    "\n",
    "            # Download the image\n",
    "            response = requests.get(imageLink)\n",
    "            imageFileName = './images/'+playerName+'.png'\n",
    "            jsonFileName = './details/'+playerName+'.json'\n",
    "            with open(imageFileName, \"wb\") as f:\n",
    "                f.write(response.content)\n",
    "\n",
    "            # Save the JSON file\n",
    "            text = driver.find_element(By.ID,\"__NEXT_DATA__\").get_attribute('innerHTML')\n",
    "            fulljsonData = json.loads(text)\n",
    "            json_object = json.dumps(fulljsonData, indent = 4) \n",
    "            data = fulljsonData['props']['appPageProps']['data']['player']\n",
    "\n",
    "            # Serializing json\n",
    "            json_object = json.dumps(data, indent=4)\n",
    "\n",
    "            # Writing to sample.json\n",
    "            with open(jsonFileName, \"w\") as outfile:\n",
    "                outfile.write(json_object)\n",
    "        except:\n",
    "            # means no image is there so no need to peoceed further\n",
    "            print(pageLink)\n",
    "    except:\n",
    "        print(i)"
   ]
  },
  {
   "cell_type": "code",
   "execution_count": null,
   "id": "e03a6a55",
   "metadata": {},
   "outputs": [],
   "source": []
  }
 ],
 "metadata": {
  "kernelspec": {
   "display_name": "Python 3",
   "language": "python",
   "name": "python3"
  },
  "language_info": {
   "codemirror_mode": {
    "name": "ipython",
    "version": 3
   },
   "file_extension": ".py",
   "mimetype": "text/x-python",
   "name": "python",
   "nbconvert_exporter": "python",
   "pygments_lexer": "ipython3",
   "version": "3.8.8"
  }
 },
 "nbformat": 4,
 "nbformat_minor": 5
}
