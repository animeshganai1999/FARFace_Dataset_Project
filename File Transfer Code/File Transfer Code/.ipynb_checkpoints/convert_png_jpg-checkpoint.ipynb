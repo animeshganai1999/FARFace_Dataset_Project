{
 "cells": [
  {
   "cell_type": "markdown",
   "id": "2b800e11",
   "metadata": {},
   "source": [
    "## Check width x height of images (200x256)\n"
   ]
  },
  {
   "cell_type": "code",
   "execution_count": 1,
   "id": "c3cdace9",
   "metadata": {},
   "outputs": [],
   "source": [
    "import os\n",
    "import cv2\n",
    "from PIL import Image"
   ]
  },
  {
   "cell_type": "code",
   "execution_count": 2,
   "id": "784465dd",
   "metadata": {},
   "outputs": [],
   "source": [
    "path = \"D:/2nd year M.Tech/summer Project (MTP)/Players Dataset/India\"\n",
    "# path = \"D:/1st year M.Tech/M.Tech 2nd sem/Project - I/Data set India/Images_Resized\"\n",
    "images = os.listdir(path)"
   ]
  },
  {
   "cell_type": "code",
   "execution_count": 5,
   "id": "56606035",
   "metadata": {},
   "outputs": [],
   "source": [
    "for file in images:\n",
    "    fileName = path+'/'+file\n",
    "    img = cv2.imread(fileName, 1)  \n",
    "    if img.shape != (256,200,3):\n",
    "        print(fileName)"
   ]
  },
  {
   "cell_type": "markdown",
   "id": "31f8134f",
   "metadata": {},
   "source": [
    "## Convert png to jpg"
   ]
  },
  {
   "cell_type": "code",
   "execution_count": 39,
   "id": "99626b1b",
   "metadata": {},
   "outputs": [],
   "source": [
    "image_type = \"spread\"\n",
    "isMasked = \"masked\"\n",
    "\n",
    "location = \"D:/2nd year M.Tech/summer Project (MTP)/Players Dataset/India/\"+image_type+\"1/\"\n",
    "path = \"D:/2nd year M.Tech/summer Project (MTP)/Players Dataset/India/\"+image_type+\"/\"+isMasked+\"/\"\n",
    "images = os.listdir(path)"
   ]
  },
  {
   "cell_type": "code",
   "execution_count": null,
   "id": "08b08cbb",
   "metadata": {},
   "outputs": [],
   "source": []
  },
  {
   "cell_type": "code",
   "execution_count": 40,
   "id": "e5bf2eb8",
   "metadata": {},
   "outputs": [
    {
     "name": "stdout",
     "output_type": "stream",
     "text": [
      "D:/2nd year M.Tech/summer Project (MTP)/Players Dataset/India/spread1/\n"
     ]
    }
   ],
   "source": [
    "dest = location\n",
    "# Directory to save the plots\n",
    "try:\n",
    "    os.mkdir(dest)\n",
    "except:\n",
    "    print(dest)\n",
    "    pass\n",
    "dest += isMasked+\"/\"\n",
    "try:\n",
    "    os.mkdir(dest)\n",
    "except:\n",
    "    print(dest)\n",
    "    pass"
   ]
  },
  {
   "cell_type": "code",
   "execution_count": 41,
   "id": "70ce41fb",
   "metadata": {},
   "outputs": [],
   "source": [
    "\n",
    "for file in images:\n",
    "    fileName = path+'/'+file\n",
    "    im = Image.open(fileName)\n",
    "    rgb_im = im.convert('RGB')\n",
    "    rgb_im.save(dest+file.split('.')[0]+'.jpg')\n",
    "#     print(dest+file.split('.')[0]+'.jpg')\n"
   ]
  },
  {
   "cell_type": "markdown",
   "id": "5b32b56d",
   "metadata": {},
   "source": [
    "## convert png to jpg"
   ]
  },
  {
   "cell_type": "code",
   "execution_count": 3,
   "id": "843709e1",
   "metadata": {},
   "outputs": [],
   "source": [
    "def create_folder(path):\n",
    "    try:\n",
    "        os.mkdir(path)\n",
    "    except:\n",
    "        pass"
   ]
  },
  {
   "cell_type": "code",
   "execution_count": 5,
   "id": "a2869c3a",
   "metadata": {},
   "outputs": [],
   "source": [
    "path = \"./../All Face Images (ORIGINAL BEFORE YOLO) png/\"\n",
    "dst_path = \"./../All Face Images (ORIGINAL BEFORE YOLO)/\"\n",
    "countries = os.listdir(path)\n",
    "for country in countries:\n",
    "    dst_country = dst_path+country\n",
    "    create_folder(dst_country)\n",
    "    files = os.listdir(path+country)\n",
    "    for file in files:\n",
    "        fileName = path+country+'/'+file\n",
    "        im = Image.open(fileName)\n",
    "        rgb_im = im.convert('RGB')\n",
    "        rgb_im.save(dst_country+'/'+file.split('.')[0]+'.jpg')"
   ]
  },
  {
   "cell_type": "code",
   "execution_count": null,
   "id": "170d7dd8",
   "metadata": {},
   "outputs": [],
   "source": []
  },
  {
   "cell_type": "code",
   "execution_count": null,
   "id": "4a050873",
   "metadata": {},
   "outputs": [],
   "source": []
  },
  {
   "cell_type": "code",
   "execution_count": null,
   "id": "9ee1559f",
   "metadata": {},
   "outputs": [],
   "source": [
    "# Directory to save the JPEG images\n",
    "try:\n",
    "    os.mkdir('plots_india_normal')\n",
    "except:\n",
    "    pass\n",
    "\n",
    "outPath = \"./plots_india_normal/\""
   ]
  }
 ],
 "metadata": {
  "kernelspec": {
   "display_name": "Python 3 (ipykernel)",
   "language": "python",
   "name": "python3"
  },
  "language_info": {
   "codemirror_mode": {
    "name": "ipython",
    "version": 3
   },
   "file_extension": ".py",
   "mimetype": "text/x-python",
   "name": "python",
   "nbconvert_exporter": "python",
   "pygments_lexer": "ipython3",
   "version": "3.8.16"
  }
 },
 "nbformat": 4,
 "nbformat_minor": 5
}
