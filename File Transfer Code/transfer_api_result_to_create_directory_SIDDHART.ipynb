{
 "cells": [
  {
   "cell_type": "code",
   "execution_count": 6,
   "id": "610bc288",
   "metadata": {},
   "outputs": [],
   "source": [
    "import os\n",
    "import shutil"
   ]
  },
  {
   "cell_type": "code",
   "execution_count": 7,
   "id": "9fafb9f1",
   "metadata": {},
   "outputs": [],
   "source": [
    "API_NAME = \"facepp\" # Enter API name here\n",
    "image_type = \"original\"  # Enter Image type\n",
    "\n",
    "path = \"./../API Result AG/\"+API_NAME+'/'+image_type+'/'\n",
    "countries = os.listdir(path)"
   ]
  },
  {
   "cell_type": "code",
   "execution_count": 8,
   "id": "2e353b8b",
   "metadata": {},
   "outputs": [
    {
     "name": "stdout",
     "output_type": "stream",
     "text": [
      "./../API Result AG/facepp/original/Australia/output_masked.txt\n",
      "./../API Result AG/facepp/original/Australia/output_normal.txt\n",
      "./../API Result AG/facepp/original/Bangladesh/output_masked.txt\n",
      "./../API Result AG/facepp/original/Bangladesh/output_normal.txt\n",
      "./../API Result AG/facepp/original/England/output_masked.txt\n",
      "./../API Result AG/facepp/original/England/output_normal.txt\n",
      "./../API Result AG/facepp/original/India/output_masked.txt\n",
      "./../API Result AG/facepp/original/India/output_normal.txt\n",
      "./../API Result AG/facepp/original/New Zealand/output_masked.txt\n",
      "./../API Result AG/facepp/original/New Zealand/output_normal.txt\n",
      "./../API Result AG/facepp/original/Pakisthan/output_masked.txt\n",
      "./../API Result AG/facepp/original/Pakisthan/output_normal.txt\n",
      "./../API Result AG/facepp/original/South Africa/output_masked.txt\n",
      "./../API Result AG/facepp/original/South Africa/output_normal.txt\n",
      "./../API Result AG/facepp/original/West Indies/output_masked.txt\n",
      "./../API Result AG/facepp/original/West Indies/output_normal.txt\n"
     ]
    }
   ],
   "source": [
    "out_path = \"./../API Result SJ/\"+API_NAME+'/'\n",
    "for country in countries:\n",
    "    try:\n",
    "        os.mkdir(out_path+country)\n",
    "    except:\n",
    "        pass\n",
    "    \n",
    "    try:\n",
    "        os.mkdir(out_path+country+'/'+image_type)\n",
    "    except:\n",
    "        pass\n",
    "    #Copy file from input path to output path\n",
    "    source = path+country\n",
    "    destination = out_path+country+'/'+image_type+'/'\n",
    "    for s in os.listdir(source):\n",
    "        print(source+'/'+s)\n",
    "        shutil.copyfile(source+'/'+s, destination+s)"
   ]
  },
  {
   "cell_type": "code",
   "execution_count": null,
   "id": "aef33349",
   "metadata": {},
   "outputs": [],
   "source": []
  }
 ],
 "metadata": {
  "kernelspec": {
   "display_name": "Python 3",
   "language": "python",
   "name": "python3"
  },
  "language_info": {
   "codemirror_mode": {
    "name": "ipython",
    "version": 3
   },
   "file_extension": ".py",
   "mimetype": "text/x-python",
   "name": "python",
   "nbconvert_exporter": "python",
   "pygments_lexer": "ipython3",
   "version": "3.8.8"
  }
 },
 "nbformat": 4,
 "nbformat_minor": 5
}
