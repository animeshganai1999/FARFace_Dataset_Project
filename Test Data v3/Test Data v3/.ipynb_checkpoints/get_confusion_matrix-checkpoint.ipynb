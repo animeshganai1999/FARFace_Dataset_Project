{
 "cells": [
  {
   "cell_type": "code",
   "execution_count": 2,
   "id": "500518f8",
   "metadata": {},
   "outputs": [],
   "source": [
    "import os\n",
    "import pandas as pd"
   ]
  },
  {
   "cell_type": "code",
   "execution_count": 61,
   "id": "106c545c",
   "metadata": {},
   "outputs": [],
   "source": [
    "trained_type = \"triplet_loss_full_mf_82_100_epochs\"\n",
    "num_shot = '2_shot'\n",
    "\n",
    "path = \"result_in_csv_file/\"+trained_type+'/'\n",
    "df_all = None\n",
    "isFirst = True\n",
    "\n",
    "total = 0\n",
    "total_cm = 0\n",
    "total_cf = 0\n",
    "total_m = 0\n",
    "total_f = 0\n",
    "total_wm = 0\n",
    "total_wf = 0\n",
    "\n",
    "# for run in ['run_1','run_2','run_3']:\n",
    "#     for shot in ['1_shot','2_shot']:\n",
    "#         if shot != num_shot:\n",
    "#             continue\n",
    "#         new_path = path+run+'/'+shot+'/result.csv'\n",
    "#         df = pd.read_csv(new_path)\n",
    "# #         print(df)\n",
    "#         total += len(df)\n",
    "#         df_male = df[df['gender'] == 'M']\n",
    "#         df_female = df[df['gender'] == 'F']\n",
    "        \n",
    "#         num_male = len(df_male)\n",
    "#         num_female = len(df_female)\n",
    "#         total_m += num_male\n",
    "#         total_f += num_female\n",
    "        \n",
    "#         correct_male = len(df_male[df_male['normal'] == 'M'])\n",
    "#         wrong_male = len(df_male[df_male['normal'] == 'F'])\n",
    "        \n",
    "#         correct_female = len(df_female[df_female['normal'] == 'F'])\n",
    "#         wrong_female = len(df_female[df_female['normal'] == 'M'])\n",
    "        \n",
    "#         total_cm += correct_male\n",
    "#         total_wm += wrong_male # Male predicted as female\n",
    "        \n",
    "#         total_cf += correct_female\n",
    "#         total_wf += wrong_female # Female predicted as male\n",
    "\n",
    "\n",
    "\n",
    "new_path = path+'result.csv'\n",
    "df = pd.read_csv(new_path)\n",
    "#         print(df)\n",
    "total += len(df)\n",
    "df_male = df[df['gender'] == 'M']\n",
    "df_female = df[df['gender'] == 'F']\n",
    "\n",
    "num_male = len(df_male)\n",
    "num_female = len(df_female)\n",
    "total_m += num_male\n",
    "total_f += num_female\n",
    "\n",
    "correct_male = len(df_male[df_male['normal'] == 'M'])\n",
    "wrong_male = len(df_male[df_male['normal'] == 'F'])\n",
    "\n",
    "correct_female = len(df_female[df_female['normal'] == 'F'])\n",
    "wrong_female = len(df_female[df_female['normal'] == 'M'])\n",
    "\n",
    "total_cm += correct_male\n",
    "total_wm += wrong_male # Male predicted as female\n",
    "\n",
    "total_cf += correct_female\n",
    "total_wf += wrong_female # Female predicted as male"
   ]
  },
  {
   "cell_type": "code",
   "execution_count": 64,
   "id": "241a662b",
   "metadata": {},
   "outputs": [],
   "source": [
    "def buildCM(total_cm,total_wm,total_cf,total_wf,total):\n",
    "    print(\"\\tMale, Female\")\n",
    "    print(\"Male : %.2f %.2f\"%(total_cm,total_wm))\n",
    "    print(\"Female : %.2f %.2f\"%(total_wf,total_cf))"
   ]
  },
  {
   "cell_type": "code",
   "execution_count": 65,
   "id": "eec7c72d",
   "metadata": {},
   "outputs": [
    {
     "name": "stdout",
     "output_type": "stream",
     "text": [
      "\tMale, Female\n",
      "Male : 320.00 0.00\n",
      "Female : 80.00 80.00\n"
     ]
    }
   ],
   "source": [
    "buildCM(total_cm,total_wm,total_cf,total_wf,total)"
   ]
  },
  {
   "cell_type": "code",
   "execution_count": null,
   "id": "f2fa2ec3",
   "metadata": {},
   "outputs": [],
   "source": []
  },
  {
   "cell_type": "code",
   "execution_count": null,
   "id": "f67fc704",
   "metadata": {},
   "outputs": [],
   "source": []
  }
 ],
 "metadata": {
  "kernelspec": {
   "display_name": "Python 3 (ipykernel)",
   "language": "python",
   "name": "python3"
  },
  "language_info": {
   "codemirror_mode": {
    "name": "ipython",
    "version": 3
   },
   "file_extension": ".py",
   "mimetype": "text/x-python",
   "name": "python",
   "nbconvert_exporter": "python",
   "pygments_lexer": "ipython3",
   "version": "3.8.16"
  }
 },
 "nbformat": 4,
 "nbformat_minor": 5
}
