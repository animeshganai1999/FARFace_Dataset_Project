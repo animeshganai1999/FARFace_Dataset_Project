{
 "cells": [
  {
   "cell_type": "code",
   "execution_count": 1,
   "id": "2401fbb9",
   "metadata": {},
   "outputs": [],
   "source": [
    "import os\n",
    "import pandas as pd\n",
    "import json\n",
    "import matplotlib.pyplot as plt\n",
    "import numpy as np\n"
   ]
  },
  {
   "cell_type": "code",
   "execution_count": 2,
   "id": "53d954c1",
   "metadata": {},
   "outputs": [],
   "source": [
    "def analysis(path,out_path_new,ground_path):    \n",
    "    df = pd.read_csv(ground_path)\n",
    "    df.rename(columns = {'filename':'name'}, inplace = True)\n",
    "    for i in range(len(df)):\n",
    "        df.at[i,'name'] = df['name'][i]+'_'+df['country'][i]\n",
    "    \n",
    "#     print(df)\n",
    "#     return\n",
    "\n",
    "    image_types = os.listdir(path)\n",
    "    \n",
    "    #====================================================================================\n",
    "            \n",
    "    for image_type in image_types:\n",
    "        print(image_type)\n",
    "        file_path = path+image_type ## name of the files where result is stored\n",
    "        df[image_type.split('.txt')[0]] = None\n",
    "        f = open(file_path,'r')\n",
    "        lines = f.readlines()\n",
    "        for line in lines:\n",
    "            name = line.split('.')[0].split('_N95')[0]\n",
    "#             print(name)\n",
    "            try:\n",
    "                female_prob = line.split(':')[1].split(',')[0].strip()\n",
    "                male_prob = line.split(':')[-1].split('}')[0].strip()\n",
    "#                 print(male_prob,female_prob)\n",
    "                gender = 'M'\n",
    "                if float(female_prob) > float(male_prob):\n",
    "                    gender = 'F'\n",
    "            except:\n",
    "                continue\n",
    "            try:\n",
    "                rowInd = df.index[df['name'] == name].tolist()[0]\n",
    "                df.at[rowInd,image_type.split('.txt')[0]] = gender\n",
    "            except:\n",
    "                continue\n",
    "                \n",
    "    print(df)\n",
    "    df = df[['name', 'country', 'gender','normal', 'Greyish', 'RGB0.3 Noise', 'RGB0.5 Noise', 'Spread Noise','masked']]\n",
    "    out_path = out_path_new+'/result.csv'\n",
    "    df.to_csv(out_path,index=False)\n",
    "\n",
    "def create_folder(path):\n",
    "    try:\n",
    "        os.mkdir(path)\n",
    "    except:\n",
    "        pass"
   ]
  },
  {
   "cell_type": "code",
   "execution_count": 6,
   "id": "117c1742",
   "metadata": {
    "scrolled": false
   },
   "outputs": [
    {
     "name": "stdout",
     "output_type": "stream",
     "text": [
      "./../deepface-few-shot-v3/results/result_triplet_loss_full_mf_91_train_data_85_15_100_epochs/\n",
      "Greyish.txt\n",
      "masked.txt\n",
      "normal.txt\n",
      "RGB0.3 Noise.txt\n",
      "RGB0.5 Noise.txt\n",
      "Spread Noise.txt\n",
      "                                   name      country gender Greyish masked  \\\n",
      "0                Allan Wise_0_Australia    Australia      M       M      M   \n",
      "1    Amanda Jade Wellington_0_Australia    Australia      F       F      F   \n",
      "2             Annie Maloney_0_Australia    Australia      F       F      M   \n",
      "3              Anthony Dent_0_Australia    Australia      M       M      M   \n",
      "4                Asha Smith_0_Australia    Australia      F       F      F   \n",
      "..                                  ...          ...    ...     ...    ...   \n",
      "475      Sherwin Campbell_0_West Indies  West Indies      M       M      M   \n",
      "476         Steven Jacobs_0_West Indies  West Indies      M       M      F   \n",
      "477        Subrina Munroe_0_West Indies  West Indies      F       M      M   \n",
      "478       Tremayne Smartt_0_West Indies  West Indies      F       M      F   \n",
      "479      Winston Benjamin_1_West Indies  West Indies      M       M      M   \n",
      "\n",
      "    normal RGB0.3 Noise RGB0.5 Noise Spread Noise  \n",
      "0        M            M            M            M  \n",
      "1        F            F            F            F  \n",
      "2        M            M            F            M  \n",
      "3        M            M            M            M  \n",
      "4        F            F            M            F  \n",
      "..     ...          ...          ...          ...  \n",
      "475      M            M            M            M  \n",
      "476      M            M            M            M  \n",
      "477      F            F            M            F  \n",
      "478      F            M            M            F  \n",
      "479      M            M            M            M  \n",
      "\n",
      "[480 rows x 9 columns]\n"
     ]
    }
   ],
   "source": [
    "run = 1\n",
    "num_img_category = 1\n",
    "\n",
    "img_type = \"triplet_loss_full_mf_91_train_data_85_15_100_epochs\" ## trained images type\n",
    "result_path = \"./../deepface-few-shot-v3/results/result_\"+img_type\n",
    "# result_path = \"./../deepface-few-shot-v3/1_shot\"\n",
    "ground_path = \"test_data_trained_on_original/test_data_trained_on_original.csv\"\n",
    "out_path = \"./result_in_csv_file/\"\n",
    "\n",
    "\n",
    "result_path_new = result_path+\"/\"\n",
    "out_path_new = out_path+'/'+img_type\n",
    "create_folder(out_path_new)\n",
    "print(result_path_new)\n",
    "analysis(result_path_new,out_path_new,ground_path)\n",
    "\n",
    "\n",
    "# for run in [1,2,3]:\n",
    "#     for num_img_category in [1,2]:\n",
    "#         result_path_new = result_path+'/'+'run_'+str(run)+'/'+str(num_img_category)+'_shot/'\n",
    "#         out_path_new = out_path+'/'+img_type\n",
    "#         create_folder(out_path_new)\n",
    "#         out_path_new = out_path_new+'/'+'run_'+str(run)\n",
    "#         create_folder(out_path_new)\n",
    "#         out_path_new = out_path_new+'/'+str(num_img_category)+'_shot'\n",
    "#         create_folder(out_path_new)\n",
    "#         print(result_path_new)\n",
    "#         analysis(result_path_new,out_path_new,ground_path)\n"
   ]
  },
  {
   "cell_type": "code",
   "execution_count": null,
   "id": "ed5086ef",
   "metadata": {},
   "outputs": [],
   "source": []
  },
  {
   "cell_type": "code",
   "execution_count": null,
   "id": "225c6abd",
   "metadata": {},
   "outputs": [],
   "source": []
  },
  {
   "cell_type": "code",
   "execution_count": null,
   "id": "75759036",
   "metadata": {},
   "outputs": [],
   "source": []
  }
 ],
 "metadata": {
  "kernelspec": {
   "display_name": "Python 3 (ipykernel)",
   "language": "python",
   "name": "python3"
  },
  "language_info": {
   "codemirror_mode": {
    "name": "ipython",
    "version": 3
   },
   "file_extension": ".py",
   "mimetype": "text/x-python",
   "name": "python",
   "nbconvert_exporter": "python",
   "pygments_lexer": "ipython3",
   "version": "3.8.16"
  }
 },
 "nbformat": 4,
 "nbformat_minor": 5
}
