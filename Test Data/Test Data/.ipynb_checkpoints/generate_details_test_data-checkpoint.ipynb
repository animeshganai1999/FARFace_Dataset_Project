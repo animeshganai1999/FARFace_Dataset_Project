{
 "cells": [
  {
   "cell_type": "code",
   "execution_count": 1,
   "id": "51b80fac",
   "metadata": {},
   "outputs": [],
   "source": [
    "import os\n",
    "import pandas as pd"
   ]
  },
  {
   "cell_type": "code",
   "execution_count": 9,
   "id": "e9da16c3",
   "metadata": {},
   "outputs": [],
   "source": [
    "test_img = \"test_data_trained_on_original\"\n",
    "file_info = \"./../image_details/\"\n",
    "countries = os.listdir(file_info)\n",
    "df = pd.DataFrame()\n",
    "df['filename'] = None\n",
    "df['country'] = None\n",
    "df['gender'] = None\n",
    "\n",
    "test_images = os.listdir(test_img)\n",
    "for i in range(len(test_images)):\n",
    "    test_images[i] = test_images[i].split('.')[0]\n",
    "df_test = pd.DataFrame()\n",
    "df_test['filename'] = test_images\n",
    "\n",
    "for country in countries:\n",
    "    country_path = file_info+country\n",
    "    country_name = country.split('.')[0]\n",
    "    df_country = pd.read_csv(country_path)\n",
    "    for i in range(len(df_country)):\n",
    "        df_country.at[i,'filename'] = df_country['filename'][i]+'_'+country_name\n",
    "    \n",
    "    df_selected = df_country[df_country['filename'].isin(df_test['filename'])]\n",
    "    df_selected = df_selected[['filename','gender']]\n",
    "    df_selected = df_selected.reset_index(drop = 'index')\n",
    "    for i in range(len(df_selected)):\n",
    "        filename = df_selected['filename'][i]\n",
    "        name = '_'.join(filename.split('_')[:-1])\n",
    "        cname = filename.split('_')[-1]\n",
    "        gender = df_selected['gender'][i]\n",
    "        df.at[len(df.index)] = [name,cname,gender]"
   ]
  },
  {
   "cell_type": "code",
   "execution_count": 11,
   "id": "86b48a27",
   "metadata": {},
   "outputs": [],
   "source": [
    "df.to_csv('test_data_trained_on_original.csv',index = False)"
   ]
  },
  {
   "cell_type": "code",
   "execution_count": null,
   "id": "f2c82c9a",
   "metadata": {},
   "outputs": [],
   "source": []
  }
 ],
 "metadata": {
  "kernelspec": {
   "display_name": "Python 3 (ipykernel)",
   "language": "python",
   "name": "python3"
  },
  "language_info": {
   "codemirror_mode": {
    "name": "ipython",
    "version": 3
   },
   "file_extension": ".py",
   "mimetype": "text/x-python",
   "name": "python",
   "nbconvert_exporter": "python",
   "pygments_lexer": "ipython3",
   "version": "3.8.16"
  }
 },
 "nbformat": 4,
 "nbformat_minor": 5
}
