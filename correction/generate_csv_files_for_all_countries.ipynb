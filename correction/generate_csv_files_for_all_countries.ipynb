{
 "cells": [
  {
   "cell_type": "code",
   "execution_count": 15,
   "id": "4a2c1963",
   "metadata": {},
   "outputs": [],
   "source": [
    "import os\n",
    "import shutil\n",
    "import pandas as pd"
   ]
  },
  {
   "cell_type": "code",
   "execution_count": 33,
   "id": "6784bb76",
   "metadata": {},
   "outputs": [],
   "source": [
    "path = \"./../All Face Images with And Without Mask (N95)/\"\n",
    "\n",
    "def createFolder(path):\n",
    "    try:\n",
    "        os.mkdir(path)\n",
    "    except:\n",
    "        pass\n",
    "countries = os.listdir(path)\n",
    "for country in countries:\n",
    "    path_country = path+\"/\"+country+\"/normal/\"\n",
    "    createFolder(\"status_csv_files\")\n",
    "    df = pd.DataFrame()\n",
    "    df['fileName'] = None\n",
    "    df['status'] = None\n",
    "    df['remark'] = None\n",
    "    images = os.listdir(path_country)\n",
    "    for img in images:\n",
    "        df.loc[len(df.index)] = [img,None,\"NONE\"]\n",
    "    df.to_csv(\"status_csv_files/\"+country.split('_')[0]+'.csv',index = False)"
   ]
  },
  {
   "cell_type": "markdown",
   "id": "e61acb11",
   "metadata": {},
   "source": [
    "# NOTE : DON'T RUN THE BELOW CODE\n",
    "## Detect color of an Image"
   ]
  },
  {
   "cell_type": "code",
   "execution_count": 14,
   "id": "066729a5",
   "metadata": {
    "scrolled": false
   },
   "outputs": [],
   "source": [
    "# from PIL import Image, ImageStat\n",
    "# color = 0\n",
    "# greyish = 0\n",
    "# def detect_color_image(img,file,colored_path, greyish_path, thumb_size=40, MSE_cutoff=22, adjust_color_bias=True):\n",
    "#     global  color,greyish\n",
    "#     pil_img = Image.open(file)\n",
    "#     bands = pil_img.getbands()\n",
    "#     if bands == ('R','G','B') or bands== ('R','G','B','A'):\n",
    "#         thumb = pil_img.resize((thumb_size,thumb_size))\n",
    "#         SSE, bias = 0, [0,0,0]\n",
    "#         if adjust_color_bias:\n",
    "#             bias = ImageStat.Stat(thumb).mean[:3]\n",
    "#             bias = [b - sum(bias)/3 for b in bias ]\n",
    "#         for pixel in thumb.getdata():\n",
    "#             mu = sum(pixel)/3\n",
    "#             SSE += sum((pixel[i] - mu - bias[i])*(pixel[i] - mu - bias[i]) for i in [0,1,2])\n",
    "#         MSE = float(SSE)/(thumb_size*thumb_size)\n",
    "#         if MSE <= MSE_cutoff:\n",
    "# #             print(img)\n",
    "#             shutil.copy(file,greyish_path+img)\n",
    "#             greyish +=1\n",
    "# #             print(\"grayscale\")\n",
    "#         else:\n",
    "#             shutil.copy(file,colored_path+img)\n",
    "#             color+=1\n",
    "# #             print(\"Color\")\n",
    "# #         print(\"( MSE=\",MSE,\")\")\n",
    "#     elif len(bands)==1:\n",
    "# #         print(\"Black and white\", bands)\n",
    "#         shutil.copy(file,greyish_path+img)\n",
    "#         greyish+=1\n",
    "#     else:\n",
    "# #         print(\"Don't know...\", bands)\n",
    "#         shutil.copy(file,colored_path+img)\n",
    "#         color+=1\n",
    "\n",
    "# path = \"./../All Face Images with And Without Mask (N95)/\"\n",
    "# out_path = \"./filtered_images_v2\"\n",
    "# def createFolder(path):\n",
    "#     try:\n",
    "#         os.mkdir(path)\n",
    "#     except:\n",
    "#         pass\n",
    "# createFolder(out_path)\n",
    "# countries = os.listdir(path)\n",
    "# for country in countries:\n",
    "#     global  color,greyish\n",
    "#     color = 0\n",
    "#     greyish = 0\n",
    "#     path_country = path+\"/\"+country+\"/normal/\"\n",
    "#     country_dest = country.split('_')[0]\n",
    "#     print(country_dest)\n",
    "#     createFolder(out_path+\"/\"+country_dest)\n",
    "#     createFolder(out_path+\"/\"+country_dest+\"/colored/\")\n",
    "#     createFolder(out_path+\"/\"+country_dest+\"/greyish/\")\n",
    "#     images = os.listdir(path_country)\n",
    "#     for img in images:\n",
    "#         detect_color_image(img,path_country+\"/\"+img,out_path+\"/\"+country_dest+\"/colored/\",out_path+\"/\"+country_dest+\"/greyish/\")\n",
    "#     print(\"Color Images : \",color,\", Greyish Images : \",greyish)"
   ]
  },
  {
   "cell_type": "markdown",
   "id": "968dba58",
   "metadata": {},
   "source": [
    "## Filling the csv file"
   ]
  },
  {
   "cell_type": "code",
   "execution_count": 34,
   "id": "9692fc2e",
   "metadata": {},
   "outputs": [
    {
     "name": "stdout",
     "output_type": "stream",
     "text": [
      "Australia\n",
      "Bangladesh\n",
      "England\n",
      "India\n",
      "New Zealand\n",
      "Pakistan\n",
      "South Africa\n",
      "West Indies\n"
     ]
    }
   ],
   "source": [
    "path_img = \"./filtered_images\"\n",
    "path_csv = \"./status_csv_files\"\n",
    "csv_files = os.listdir(path_csv)\n",
    "for csv_file in csv_files:\n",
    "    df = pd.read_csv(path_csv+\"/\"+csv_file)\n",
    "    df['status'] = df['status'].astype(str)\n",
    "    df['remark'] = df['remark'].astype(str)\n",
    "    country = csv_file.split(\".csv\")[0]\n",
    "    path_img_country = path_img+\"/\"+country\n",
    "    print(country)\n",
    "    img_types = os.listdir(path_img_country)\n",
    "    for img_type in img_types:\n",
    "        img_type_path = path_img_country+\"/\"+img_type\n",
    "        images = os.listdir(img_type_path)\n",
    "        if len(images) == 0:\n",
    "            continue\n",
    "        for img in images:\n",
    "            img_path_full = img_type_path+\"/\"+img\n",
    "            rowInd = df.index[df['fileName'] == img].tolist()[0]\n",
    "            status = \"OK\"\n",
    "            remark = \"NONE\"\n",
    "            if img_type == \"greyish\":\n",
    "                status = \"GREY\"\n",
    "                remark = \"REMOVE\"\n",
    "            elif img_type == \"painting\":\n",
    "                status = \"PAINTING\"\n",
    "                remark = \"REMOVE\"\n",
    "#             print(rowInd,status)\n",
    "#             print(df['status'][rowInd])\n",
    "            df.at[rowInd,'status'] = status\n",
    "            df.at[rowInd,'remark'] = remark\n",
    "    df.to_csv(path_csv+\"/\"+csv_file,index = None)"
   ]
  },
  {
   "cell_type": "code",
   "execution_count": null,
   "id": "d8189478",
   "metadata": {},
   "outputs": [],
   "source": []
  },
  {
   "cell_type": "code",
   "execution_count": null,
   "id": "de2f4653",
   "metadata": {},
   "outputs": [],
   "source": []
  }
 ],
 "metadata": {
  "kernelspec": {
   "display_name": "Python 3 (ipykernel)",
   "language": "python",
   "name": "python3"
  },
  "language_info": {
   "codemirror_mode": {
    "name": "ipython",
    "version": 3
   },
   "file_extension": ".py",
   "mimetype": "text/x-python",
   "name": "python",
   "nbconvert_exporter": "python",
   "pygments_lexer": "ipython3",
   "version": "3.8.16"
  }
 },
 "nbformat": 4,
 "nbformat_minor": 5
}
