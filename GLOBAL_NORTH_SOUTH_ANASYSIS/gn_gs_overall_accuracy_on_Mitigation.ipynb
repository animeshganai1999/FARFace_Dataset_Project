{
 "cells": [
  {
   "cell_type": "code",
   "execution_count": 4,
   "id": "86f37fb8",
   "metadata": {},
   "outputs": [],
   "source": [
    "import os\n",
    "import pandas as pd"
   ]
  },
  {
   "cell_type": "code",
   "execution_count": 5,
   "id": "be809402",
   "metadata": {},
   "outputs": [],
   "source": [
    "global_north = ['Australia','England','New Zealand','South Africa']\n",
    "global_south = ['India','Pakistan','Bangladesh','West Indies']"
   ]
  },
  {
   "cell_type": "code",
   "execution_count": 6,
   "id": "69e7f316",
   "metadata": {},
   "outputs": [],
   "source": [
    "def calculate_gn_gs(path,shot_type):\n",
    "    runs = os.listdir(path)\n",
    "    df_gn_total = None\n",
    "    df_gs_total = None\n",
    "    firstTime = True\n",
    "    \n",
    "    for run in ['run_1','run_2','run_3']:\n",
    "        shots = os.listdir(path+'/'+run)\n",
    "        for shot in ['1_shot','2_shot']:\n",
    "            if shot == shot_type:\n",
    "                cur_path = path+'/'+run+'/'+shot\n",
    "                df = pd.read_csv(cur_path+'/all_accuracy.csv')\n",
    "                df_gn = df[df['country'].isin(global_north)]\n",
    "                df_gs = df[df['country'].isin(global_south)]\n",
    "                \n",
    "                if firstTime:\n",
    "                    df_gn_total = df_gn\n",
    "                    df_gs_total = df_gs\n",
    "                    firstTime = False\n",
    "                else:\n",
    "                    df_gn_total.iloc[:, 1:] = df_gn_total.iloc[:, 1:] + df_gn.iloc[:, 1:]\n",
    "                    df_gs_total.iloc[:, 1:] = df_gs_total.iloc[:, 1:] + df_gs.iloc[:, 1:]\n",
    "#                 print(df_gn.head())\n",
    "    return df_gn_total,df_gs_total"
   ]
  },
  {
   "cell_type": "code",
   "execution_count": 7,
   "id": "73445364",
   "metadata": {},
   "outputs": [],
   "source": [
    "def global_north_south(df_gn_total,df_gs_total,gender,shot_type):\n",
    "    male_gn = pd.DataFrame()\n",
    "    male_gn['region'] = None\n",
    "    lis = ['global_north']\n",
    "    for label, value in df_gn_total.items():\n",
    "        if label.split('-')[0] == gender:\n",
    "            male_gn[\"-\".join(label.split('-')[1:])] = None\n",
    "            lis.append(value)\n",
    "    male_gn.at[len(male_gn.index)] = lis\n",
    "\n",
    "    male_gs = pd.DataFrame()\n",
    "    male_gs['region'] = None\n",
    "    lis = ['gloabal_south']\n",
    "    for label, value in df_gs_total.items():\n",
    "        if label.split('-')[0] == gender:\n",
    "            male_gs[\"-\".join(label.split('-')[1:])] = None\n",
    "            lis.append(value)\n",
    "    male_gs.at[len(male_gs.index)] = lis\n",
    "    \n",
    "    male_gn = male_gn.append(male_gs)\n",
    "    male_gn.to_csv(path+'/'+shot_type+\"_\"+gender+'.csv',index = False)\n",
    "    return male_gn"
   ]
  },
  {
   "cell_type": "code",
   "execution_count": 17,
   "id": "9a9c0fd0",
   "metadata": {
    "scrolled": false
   },
   "outputs": [
    {
     "name": "stdout",
     "output_type": "stream",
     "text": [
      "          region ORIGINAL GREYSCALE RGB-0.3 RGB-0.5 SPREAD MASKED\n",
      "0   global_north    91.67     90.97   92.36   87.08  91.81  89.44\n",
      "0  gloabal_south    90.55      93.2   87.08   76.39  88.75  85.83\n",
      "          region ORIGINAL GREYSCALE RGB-0.3 RGB-0.5 SPREAD MASKED\n",
      "0   global_north     87.5     86.46   91.04   93.75  87.71   90.0\n",
      "0  gloabal_south    93.33     94.17   94.58   96.04  90.21  91.25\n",
      "          region ORIGINAL GREYSCALE RGB-0.3 RGB-0.5 SPREAD MASKED\n",
      "0   global_north    100.0     100.0    95.0   73.75  100.0  88.33\n",
      "0  gloabal_south     85.0     91.25   72.08   37.08  85.83   75.0\n"
     ]
    }
   ],
   "source": [
    "API_NAME = \"adverserial\" ## For Fine-tuning setup use fine-tuning image type\n",
    "shot_type = \"1_shot\"\n",
    "\n",
    "path = \"./../Test Data v3/plots/\"+API_NAME\n",
    "\n",
    "df_gn_total,df_gs_total = calculate_gn_gs(path,shot_type)\n",
    "\n",
    "df_gn_total.iloc[:, 1:] = df_gn_total.iloc[:, 1:]/3\n",
    "df_gn_total = df_gn_total.select_dtypes(include='number').sum()/4\n",
    "df_gn_total = df_gn_total.round(2)\n",
    "\n",
    "df_gs_total.iloc[:, 1:] = df_gs_total.iloc[:, 1:]/3\n",
    "df_gs_total = df_gs_total.select_dtypes(include='number').sum()/4\n",
    "df_gs_total = df_gs_total.round(2)\n",
    "\n",
    "for gender in ['overall','male','female']:\n",
    "    print(global_north_south(df_gn_total,df_gs_total,gender,shot_type))"
   ]
  },
  {
   "cell_type": "markdown",
   "id": "53d2bfd5",
   "metadata": {},
   "source": [
    "## Analysis on Original-models"
   ]
  },
  {
   "cell_type": "code",
   "execution_count": 143,
   "id": "cb7a2a71",
   "metadata": {},
   "outputs": [],
   "source": [
    "def calculate_gn_gs_org(path):\n",
    "    \n",
    "    df = pd.read_csv(path+'/all_accuracy.csv')\n",
    "    df_gn = df[df['country'].isin(global_north)]\n",
    "    df_gs = df[df['country'].isin(global_south)]\n",
    "    \n",
    "    return df_gn,df_gs"
   ]
  },
  {
   "cell_type": "code",
   "execution_count": 144,
   "id": "90672f6d",
   "metadata": {},
   "outputs": [
    {
     "name": "stdout",
     "output_type": "stream",
     "text": [
      "          region ORIGINAL GREYSCALE RGB-0.3 RGB-0.5 SPREAD MASKED\n",
      "0   global_north    84.58      80.0   84.17   81.66  82.92  79.58\n",
      "0  gloabal_south    86.67     77.08   83.75   83.33  85.42  78.33\n",
      "          region ORIGINAL GREYSCALE RGB-0.3 RGB-0.5 SPREAD MASKED\n",
      "0   global_north     82.5     81.25   81.88   78.75  81.25  93.12\n",
      "0  gloabal_south     90.0     81.88    87.5   86.88  88.12  93.75\n",
      "          region ORIGINAL GREYSCALE RGB-0.3 RGB-0.5 SPREAD MASKED\n",
      "0   global_north    88.75      77.5   88.75    87.5  86.25   52.5\n",
      "0  gloabal_south     80.0      67.5   76.25   76.25   80.0   47.5\n"
     ]
    }
   ],
   "source": [
    "API_NAME = \"triplet_loss_full_mf_82_100_epochs\"\n",
    "\n",
    "path = \"./../Test Data v3/plots/\"+API_NAME\n",
    "\n",
    "df_gn_total,df_gs_total = calculate_gn_gs_org(path)\n",
    "\n",
    "df_gn_total.iloc[:, 1:] = df_gn_total.iloc[:, 1:]\n",
    "df_gn_total = df_gn_total.select_dtypes(include='number').sum()/4\n",
    "df_gn_total = df_gn_total.round(2)\n",
    "\n",
    "df_gs_total.iloc[:, 1:] = df_gs_total.iloc[:, 1:]\n",
    "df_gs_total = df_gs_total.select_dtypes(include='number').sum()/4\n",
    "df_gs_total = df_gs_total.round(2)\n",
    "\n",
    "for gender in ['overall','male','female']:\n",
    "    print(global_north_south(df_gn_total,df_gs_total,gender,\"region_wise_\"))"
   ]
  },
  {
   "cell_type": "code",
   "execution_count": null,
   "id": "2d4a5496",
   "metadata": {},
   "outputs": [],
   "source": []
  },
  {
   "cell_type": "code",
   "execution_count": null,
   "id": "5f3734b9",
   "metadata": {},
   "outputs": [],
   "source": []
  },
  {
   "cell_type": "code",
   "execution_count": null,
   "id": "f3903faa",
   "metadata": {},
   "outputs": [],
   "source": []
  }
 ],
 "metadata": {
  "kernelspec": {
   "display_name": "Python 3 (ipykernel)",
   "language": "python",
   "name": "python3"
  },
  "language_info": {
   "codemirror_mode": {
    "name": "ipython",
    "version": 3
   },
   "file_extension": ".py",
   "mimetype": "text/x-python",
   "name": "python",
   "nbconvert_exporter": "python",
   "pygments_lexer": "ipython3",
   "version": "3.8.16"
  }
 },
 "nbformat": 4,
 "nbformat_minor": 5
}
